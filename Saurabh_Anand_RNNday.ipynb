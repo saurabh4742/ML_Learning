{
  "nbformat": 4,
  "nbformat_minor": 0,
  "metadata": {
    "colab": {
      "provenance": [],
      "authorship_tag": "ABX9TyOckjREPj/9eUCXPx0SiFQb",
      "include_colab_link": true
    },
    "kernelspec": {
      "name": "python3",
      "display_name": "Python 3"
    },
    "language_info": {
      "name": "python"
    }
  },
  "cells": [
    {
      "cell_type": "markdown",
      "metadata": {
        "id": "view-in-github",
        "colab_type": "text"
      },
      "source": [
        "<a href=\"https://colab.research.google.com/github/saurabh4742/ML_Projects/blob/main/Saurabh_Anand_RNNday.ipynb\" target=\"_parent\"><img src=\"https://colab.research.google.com/assets/colab-badge.svg\" alt=\"Open In Colab\"/></a>"
      ]
    },
    {
      "cell_type": "code",
      "execution_count": null,
      "metadata": {
        "id": "1XKQeNE6SCsY"
      },
      "outputs": [],
      "source": [
        "import pandas as pd\n",
        "from sklearn.model_selection import train_test_split\n",
        "from sklearn.preprocessing import StandardScaler\n",
        "from sklearn.neighbors import KNeighborsClassifier\n",
        "from sklearn.metrics import accuracy_score,confusion_matrix,classification_report\n",
        "from sklearn.model_selection import GridSearchCV"
      ]
    },
    {
      "cell_type": "code",
      "source": [
        "data=pd.read_csv('WineQT.csv')"
      ],
      "metadata": {
        "id": "ZIEZMtp8Sl_K"
      },
      "execution_count": null,
      "outputs": []
    },
    {
      "cell_type": "code",
      "source": [
        "features=data.drop(columns=['quality'])\n",
        "target=data['quality']\n",
        "scaling_tool=StandardScaler()\n",
        "feature_scaled=scaling_tool.fit_transform(features)"
      ],
      "metadata": {
        "id": "_uOQAtj0TfuK"
      },
      "execution_count": null,
      "outputs": []
    },
    {
      "cell_type": "code",
      "source": [
        "X_train,X_test,y_train,y_test=train_test_split(feature_scaled,target,test_size=0.2,random_state=42)\n",
        "knnmodel=KNeighborsClassifier()\n",
        "param_options={'n_neighbors':range(1,21)}\n",
        "grid_search=GridSearchCV(knnmodel,param_options   ,cv=5)\n",
        "grid_search.fit(X_train,y_train)\n",
        "print('grid search param',grid_search.best_params_)\n",
        "print('Cross validation score',grid_search.best_score_)\n",
        "optimal_model=grid_search.best_estimator_\n",
        "y_pred=optimal_model.predict(X_test)\n",
        "print('Accuracy score',accuracy_score(y_test,y_pred))"
      ],
      "metadata": {
        "colab": {
          "base_uri": "https://localhost:8080/"
        },
        "id": "i3mccaZyUAqD",
        "outputId": "afbe1b46-d224-4c09-d817-fe81f2d226a6"
      },
      "execution_count": null,
      "outputs": [
        {
          "output_type": "stream",
          "name": "stdout",
          "text": [
            "grid search param {'n_neighbors': 19}\n",
            "Cross validation score 0.5699633699633699\n",
            "Accuracy score 0.6244541484716157\n"
          ]
        }
      ]
    },
    {
      "cell_type": "code",
      "source": [
        "conf_matrix=confusion_matrix(y_test,y_pred)\n",
        "print('Confusion matrix',conf_matrix)\n",
        "class_report=classification_report(y_test,y_pred)\n",
        "print('Classification report',class_report)\n",
        "accuracy=accuracy_score(y_test,y_pred)\n",
        "print('Accuracy',accuracy)"
      ],
      "metadata": {
        "colab": {
          "base_uri": "https://localhost:8080/"
        },
        "id": "-xTUzCNpWLFe",
        "outputId": "a1f3d3a8-3829-4c40-a367-ef5da8d7ef5e"
      },
      "execution_count": null,
      "outputs": [
        {
          "output_type": "stream",
          "name": "stdout",
          "text": [
            "Confusion matrix [[ 0  3  3  0  0]\n",
            " [ 0 70 24  2  0]\n",
            " [ 0 27 66  6  0]\n",
            " [ 0  3 16  7  0]\n",
            " [ 0  0  0  2  0]]\n",
            "Classification report               precision    recall  f1-score   support\n",
            "\n",
            "           4       0.00      0.00      0.00         6\n",
            "           5       0.68      0.73      0.70        96\n",
            "           6       0.61      0.67      0.63        99\n",
            "           7       0.41      0.27      0.33        26\n",
            "           8       0.00      0.00      0.00         2\n",
            "\n",
            "    accuracy                           0.62       229\n",
            "   macro avg       0.34      0.33      0.33       229\n",
            "weighted avg       0.59      0.62      0.61       229\n",
            "\n",
            "Accuracy 0.6244541484716157\n"
          ]
        },
        {
          "output_type": "stream",
          "name": "stderr",
          "text": [
            "/usr/local/lib/python3.10/dist-packages/sklearn/metrics/_classification.py:1531: UndefinedMetricWarning: Precision is ill-defined and being set to 0.0 in labels with no predicted samples. Use `zero_division` parameter to control this behavior.\n",
            "  _warn_prf(average, modifier, f\"{metric.capitalize()} is\", len(result))\n",
            "/usr/local/lib/python3.10/dist-packages/sklearn/metrics/_classification.py:1531: UndefinedMetricWarning: Precision is ill-defined and being set to 0.0 in labels with no predicted samples. Use `zero_division` parameter to control this behavior.\n",
            "  _warn_prf(average, modifier, f\"{metric.capitalize()} is\", len(result))\n",
            "/usr/local/lib/python3.10/dist-packages/sklearn/metrics/_classification.py:1531: UndefinedMetricWarning: Precision is ill-defined and being set to 0.0 in labels with no predicted samples. Use `zero_division` parameter to control this behavior.\n",
            "  _warn_prf(average, modifier, f\"{metric.capitalize()} is\", len(result))\n"
          ]
        }
      ]
    }
  ]
}